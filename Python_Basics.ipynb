{
  "nbformat": 4,
  "nbformat_minor": 0,
  "metadata": {
    "colab": {
      "provenance": []
    },
    "kernelspec": {
      "name": "python3",
      "display_name": "Python 3"
    },
    "language_info": {
      "name": "python"
    }
  },
  "cells": [
    {
      "cell_type": "markdown",
      "source": [
        "# Python Bascis Theory Querstions"
      ],
      "metadata": {
        "id": "0HuiWBrockk0"
      }
    },
    {
      "cell_type": "markdown",
      "source": [
        "Q1. What is Python, and why is it popular ?\n",
        "- Python is a high-level, interpreted programming language known for its simplicity and readability. Popularity reasons are Easy syntax (like English) and Large community and library support\n",
        "\n",
        "Q2. What is an interpriter in Python ?\n",
        "- An interpreter is a program that executes Python code line-by-line, translating it into machine code at runtime.\n",
        "\n",
        "Q3. What are the predefined keywords in Python ?\n",
        "- Pre-defined keywords are reserved words in Python with special meaning (e.g., if, for, True, def). They cannot be used as identifiers (variable names).\n",
        "\n",
        "Q4. Can keywords be used as variable names ?\n",
        "- No, Python keywords cannot be used as variable names, as it would result in a syntax error.\n",
        "\n",
        "Q5. What is mutability in Python ?\n",
        "- Mutability refers to an object’s ability to be changed after it is created. There are 2 types of Mutability:\n",
        "a. Mutable: Can be changed (e.g., lists)\n",
        "b. Immutable: Cannot be changed (e.g., tuples, strings)\n",
        "\n",
        "Q6. Why are lists mutable, but tuples are immutable ?\n",
        "- Lists are designed to allow data updates. Tuples are immutable for performance, hashability, data.\n",
        "\n",
        "Q7.  What is the difference between “==” and “is” operators in Python ?\n",
        "- \"==\" checks the value equality and \"is\" operator checks the identity.\n",
        "\n",
        "Q8. What are logical operators in Python ?\n",
        "- There are 3 types of Logical operators in Python:\n",
        "- and - True if both operands are true\n",
        "- or - True if at least one operand is true\n",
        "- not - Inverts the boolean value.\n",
        "\n",
        "Q9. What is type casting in Python ?\n",
        "- Type casting is converting one data type to another (e.g., string to int).\n",
        "\n",
        "Q10. What is the difference between implicit and explicit type casting ?\n",
        "- Implicit: Python converts automatically (int + float = float)\n",
        "- Explicit: Developer converts (int(\"5\"))\n",
        "\n",
        "Q11. What is the purpose of conditional statements in Python ?\n",
        "- They control the flow of execution based on conditions (if, elif, else).\n",
        "\n",
        "Q12.  How does the elif statement work ?\n",
        "- elif allows multiple conditions to be checked in sequence. It runs when its condition is True, after previous if/elif fails.\n",
        "\n",
        "Q13. What is the difference between for and while loops ?\n",
        "- for: Iterates over a sequence (e.g., list, range)\n",
        "- while: Loops until a condition is false\n",
        "\n",
        "Q14. Describe a scenario where a while loop is more suitable than a for loop ?\n",
        "- Use while when the number of iterations is not known in advance.\n",
        "Example: Waiting for user to input a correct password.\n"
      ],
      "metadata": {
        "id": "Nm8io1W9cqLL"
      }
    },
    {
      "cell_type": "markdown",
      "source": [
        "# Practical Questions"
      ],
      "metadata": {
        "id": "xgNyJDPoeQm8"
      }
    },
    {
      "cell_type": "code",
      "execution_count": 10,
      "metadata": {
        "id": "-LGxyGXIb3GU",
        "colab": {
          "base_uri": "https://localhost:8080/"
        },
        "outputId": "3a139753-5fe9-49d3-dc8a-f2e10e9f892c"
      },
      "outputs": [
        {
          "output_type": "stream",
          "name": "stdout",
          "text": [
            "Hello, World!\n"
          ]
        }
      ],
      "source": [
        "#1. Write a Python program to print \"Hello, World!\".\n",
        "\n",
        "print(\"Hello, World!\")"
      ]
    },
    {
      "cell_type": "code",
      "source": [
        "#2. Write a Python program that displays your name and age.\n",
        "\n",
        "name = \"Anshumaan Mohanty\"\n",
        "age = 22\n",
        "print(\"Name:\", name)\n",
        "print(\"Age:\", age)"
      ],
      "metadata": {
        "colab": {
          "base_uri": "https://localhost:8080/"
        },
        "id": "u9oB6E9reY2-",
        "outputId": "67dc98e2-ecb9-4149-ee7a-42574b7ab35f"
      },
      "execution_count": 11,
      "outputs": [
        {
          "output_type": "stream",
          "name": "stdout",
          "text": [
            "Name: Anshumaan Mohanty\n",
            "Age: 22\n"
          ]
        }
      ]
    },
    {
      "cell_type": "code",
      "source": [
        "#3. Write code to print all the pre-defined keywords in Python using the keyword library.\n",
        "\n",
        "import keyword\n",
        "print(keyword.kwlist)"
      ],
      "metadata": {
        "colab": {
          "base_uri": "https://localhost:8080/"
        },
        "id": "Ltva9FH1epUZ",
        "outputId": "3317a2e7-2a4e-4105-cf63-6423f033d3ba"
      },
      "execution_count": 12,
      "outputs": [
        {
          "output_type": "stream",
          "name": "stdout",
          "text": [
            "['False', 'None', 'True', 'and', 'as', 'assert', 'async', 'await', 'break', 'class', 'continue', 'def', 'del', 'elif', 'else', 'except', 'finally', 'for', 'from', 'global', 'if', 'import', 'in', 'is', 'lambda', 'nonlocal', 'not', 'or', 'pass', 'raise', 'return', 'try', 'while', 'with', 'yield']\n"
          ]
        }
      ]
    },
    {
      "cell_type": "code",
      "source": [
        "#4. Write a program that checks if a given word is a Python keyword.\n",
        "\n",
        "import keyword\n",
        "word = input(\"Enter a word: \")\n",
        "if keyword.iskeyword(word):\n",
        "    print(f\"'{word}' is a Python keyword.\")\n",
        "else:\n",
        "    print(f\"'{word}' is not a Python keyword.\")"
      ],
      "metadata": {
        "colab": {
          "base_uri": "https://localhost:8080/"
        },
        "id": "ugZWoR7Ve1oA",
        "outputId": "3da1f051-cfd6-412c-bd40-0736dbb7e679"
      },
      "execution_count": 13,
      "outputs": [
        {
          "output_type": "stream",
          "name": "stdout",
          "text": [
            "Enter a word: import\n",
            "'import' is a Python keyword.\n"
          ]
        }
      ]
    },
    {
      "cell_type": "code",
      "source": [
        "#5. Create a list and tuple in Python, and demonstrate how attempting to change an element works differently for each.\n",
        "\n",
        "# Create a list and a tuple\n",
        "my_list = [10, 20, 30]\n",
        "my_tuple = (10, 20, 30)\n",
        "\n",
        "# Modify the first element of the list\n",
        "my_list[0] = 100\n",
        "print(\"Modified list:\", my_list)  # This will work\n",
        "\n",
        "# Try modifying the first element of the tuple\n",
        "try:\n",
        "    my_tuple[0] = 100  # This will raise an error\n",
        "except TypeError as e:\n",
        "    print(\"Error while modifying tuple:\", e)"
      ],
      "metadata": {
        "colab": {
          "base_uri": "https://localhost:8080/"
        },
        "id": "uBHZZCgKe9z6",
        "outputId": "f747dd7a-e40d-45de-e27f-dcb95808aa8d"
      },
      "execution_count": 14,
      "outputs": [
        {
          "output_type": "stream",
          "name": "stdout",
          "text": [
            "Modified list: [100, 20, 30]\n",
            "Error while modifying tuple: 'tuple' object does not support item assignment\n"
          ]
        }
      ]
    },
    {
      "cell_type": "code",
      "source": [
        "#6. Write a function to demonstrate the behavior of mutable and immutable arguments.\n",
        "\n",
        "# Function to modify a list (mutable)\n",
        "def modify_list(lst):\n",
        "    lst.append(100)\n",
        "    print(\"Inside function (list):\", lst)\n",
        "\n",
        "# Function to modify an integer (immutable)\n",
        "def modify_integer(x):\n",
        "    x += 10\n",
        "    print(\"Inside function (integer):\", x)\n",
        "\n",
        "# Original variables\n",
        "my_list = [1, 2, 3]\n",
        "my_number = 5\n",
        "\n",
        "# Call the functions\n",
        "modify_list(my_list)\n",
        "print(\"Outside function (list):\", my_list)  # List gets modified\n",
        "\n",
        "modify_integer(my_number)\n",
        "print(\"Outside function (integer):\", my_number)  # Integer stays the same"
      ],
      "metadata": {
        "colab": {
          "base_uri": "https://localhost:8080/"
        },
        "id": "G_fBA3NxfdX1",
        "outputId": "b540146d-cb22-44ce-ecb5-90d583197820"
      },
      "execution_count": 15,
      "outputs": [
        {
          "output_type": "stream",
          "name": "stdout",
          "text": [
            "Inside function (list): [1, 2, 3, 100]\n",
            "Outside function (list): [1, 2, 3, 100]\n",
            "Inside function (integer): 15\n",
            "Outside function (integer): 5\n"
          ]
        }
      ]
    },
    {
      "cell_type": "code",
      "source": [
        "#7. Write a program that performs basic arithmetic operations on two user-input numbers.\n",
        "\n",
        "# Get user input\n",
        "num1 = float(input(\"Enter first number: \"))\n",
        "num2 = float(input(\"Enter second number: \"))\n",
        "\n",
        "# Perform arithmetic operations\n",
        "print(\"Addition:\", num1 + num2)\n",
        "print(\"Subtraction:\", num1 - num2)\n",
        "print(\"Multiplication:\", num1 * num2)\n",
        "\n",
        "# Handle division safely\n",
        "if num2 != 0:\n",
        "    print(\"Division:\", num1 / num2)\n",
        "else:\n",
        "    print(\"Division: Cannot divide by zero\")"
      ],
      "metadata": {
        "colab": {
          "base_uri": "https://localhost:8080/"
        },
        "id": "K_ifrxgafnf_",
        "outputId": "f6ea4515-2212-4756-d8b7-9553175153cf"
      },
      "execution_count": 17,
      "outputs": [
        {
          "output_type": "stream",
          "name": "stdout",
          "text": [
            "Enter first number: 12.6\n",
            "Enter second number: 33\n",
            "Addition: 45.6\n",
            "Subtraction: -20.4\n",
            "Multiplication: 415.8\n",
            "Division: 0.38181818181818183\n"
          ]
        }
      ]
    },
    {
      "cell_type": "code",
      "source": [
        "#8.  Write a program to demonstrate the use of logical operators.\n",
        "\n",
        "# Input two numbers\n",
        "a = int(input(\"Enter first number: \"))\n",
        "b = int(input(\"Enter second number: \"))\n",
        "\n",
        "# Demonstrate logical AND\n",
        "print(\"a > 0 and b > 0:\", a > 0 and b > 0)\n",
        "\n",
        "# Demonstrate logical OR\n",
        "print(\"a > 0 or b > 0:\", a > 0 or b > 0)\n",
        "\n",
        "# Demonstrate logical NOT\n",
        "print(\"not (a > 0):\", not (a > 0))"
      ],
      "metadata": {
        "colab": {
          "base_uri": "https://localhost:8080/"
        },
        "id": "cfZzxoG-fyU4",
        "outputId": "37d6057f-05ea-4a68-e83d-970291d6d88b"
      },
      "execution_count": 18,
      "outputs": [
        {
          "output_type": "stream",
          "name": "stdout",
          "text": [
            "Enter first number: 12\n",
            "Enter second number: 3\n",
            "a > 0 and b > 0: True\n",
            "a > 0 or b > 0: True\n",
            "not (a > 0): False\n"
          ]
        }
      ]
    },
    {
      "cell_type": "code",
      "source": [
        "#9. Write a Python program to convert user input from string to integer, float, and boolean types.\n",
        "\n",
        "# Get input from the user\n",
        "user_input = input(\"Enter a value: \")\n",
        "\n",
        "# Convert to integer\n",
        "try:\n",
        "    int_value = int(user_input)\n",
        "    print(\"Integer:\", int_value)\n",
        "except ValueError:\n",
        "    print(\"Cannot convert to integer.\")\n",
        "\n",
        "# Convert to float\n",
        "try:\n",
        "    float_value = float(user_input)\n",
        "    print(\"Float:\", float_value)\n",
        "except ValueError:\n",
        "    print(\"Cannot convert to float.\")\n",
        "\n",
        "# Convert to boolean\n",
        "bool_value = bool(user_input)\n",
        "print(\"Boolean:\", bool_value)"
      ],
      "metadata": {
        "colab": {
          "base_uri": "https://localhost:8080/"
        },
        "id": "uT1QEeNnggpA",
        "outputId": "55929e3b-682a-4c28-e25e-e415f84a1594"
      },
      "execution_count": 19,
      "outputs": [
        {
          "output_type": "stream",
          "name": "stdout",
          "text": [
            "Enter a value: 55\n",
            "Integer: 55\n",
            "Float: 55.0\n",
            "Boolean: True\n"
          ]
        }
      ]
    },
    {
      "cell_type": "code",
      "source": [
        "#10. Write code to demonstrate type casting with list elements.\n",
        "\n",
        "# Original list of string numbers\n",
        "str_list = ['10', '20', '30', '40']\n",
        "\n",
        "# Convert to list of integers\n",
        "int_list = [int(item) for item in str_list]\n",
        "print(\"List of integers:\", int_list)\n",
        "\n",
        "# Convert to list of floats\n",
        "float_list = [float(item) for item in str_list]\n",
        "print(\"List of floats:\", float_list)\n",
        "\n",
        "# Convert to list of booleans\n",
        "bool_list = [bool(item) for item in str_list]\n",
        "print(\"List of booleans:\", bool_list)"
      ],
      "metadata": {
        "colab": {
          "base_uri": "https://localhost:8080/"
        },
        "id": "ch0Q55-bgq3_",
        "outputId": "9a652960-7dbb-4088-e669-9ea7f99fc4d2"
      },
      "execution_count": 20,
      "outputs": [
        {
          "output_type": "stream",
          "name": "stdout",
          "text": [
            "List of integers: [10, 20, 30, 40]\n",
            "List of floats: [10.0, 20.0, 30.0, 40.0]\n",
            "List of booleans: [True, True, True, True]\n"
          ]
        }
      ]
    },
    {
      "cell_type": "code",
      "source": [
        "#11.  Write a program that checks if a number is positive, negative, or zero.\n",
        "\n",
        "# Take input from the user\n",
        "num = float(input(\"Enter a number: \"))\n",
        "\n",
        "# Check the number's sign\n",
        "if num > 0:\n",
        "    print(\"The number is positive.\")\n",
        "elif num < 0:\n",
        "    print(\"The number is negative.\")\n",
        "else:\n",
        "    print(\"The number is zero.\")"
      ],
      "metadata": {
        "colab": {
          "base_uri": "https://localhost:8080/"
        },
        "id": "gPTQxsGihDkX",
        "outputId": "bae3868e-bb7f-4297-8924-c0ea2f32fc1b"
      },
      "execution_count": 21,
      "outputs": [
        {
          "output_type": "stream",
          "name": "stdout",
          "text": [
            "Enter a number: -32\n",
            "The number is negative.\n"
          ]
        }
      ]
    },
    {
      "cell_type": "code",
      "source": [
        "#12. Write a for loop to print numbers from 1 to 10.\n",
        "\n",
        "for i in range(1, 11):\n",
        "    print(i)"
      ],
      "metadata": {
        "colab": {
          "base_uri": "https://localhost:8080/"
        },
        "id": "zitR3h_IhMFz",
        "outputId": "7a863b7f-fc45-46b6-cb75-f87bf0cef7f0"
      },
      "execution_count": 22,
      "outputs": [
        {
          "output_type": "stream",
          "name": "stdout",
          "text": [
            "1\n",
            "2\n",
            "3\n",
            "4\n",
            "5\n",
            "6\n",
            "7\n",
            "8\n",
            "9\n",
            "10\n"
          ]
        }
      ]
    },
    {
      "cell_type": "code",
      "source": [
        "#13. Write a Python program to find the sum of all even numbers between 1 and 50.\n",
        "\n",
        "# Initialize the sum variable\n",
        "total_sum = 0\n",
        "\n",
        "# Loop through even numbers from 2 to 50\n",
        "for num in range(2, 51, 2):  # Starts at 2 and increments by 2\n",
        "    total_sum += num\n",
        "\n",
        "# Print the total sum\n",
        "print(\"Sum of all even numbers between 1 and 50:\", total_sum)"
      ],
      "metadata": {
        "colab": {
          "base_uri": "https://localhost:8080/"
        },
        "id": "ODpRKAJuhU2E",
        "outputId": "3a89f1b6-9439-492c-83e7-a3e9109f6bf6"
      },
      "execution_count": 23,
      "outputs": [
        {
          "output_type": "stream",
          "name": "stdout",
          "text": [
            "Sum of all even numbers between 1 and 50: 650\n"
          ]
        }
      ]
    },
    {
      "cell_type": "code",
      "source": [
        "#14. Write a program to reverse a string using a while loop.\n",
        "\n",
        "# Take input from the user\n",
        "s = input(\"Enter a string: \")\n",
        "\n",
        "# Initialize an empty string to store the reversed string\n",
        "reversed_str = ''\n",
        "\n",
        "# Index to start from the last character\n",
        "i = len(s) - 1\n",
        "\n",
        "# While loop to reverse the string\n",
        "while i >= 0:\n",
        "    reversed_str += s[i]\n",
        "    i -= 1\n",
        "\n",
        "# Print the reversed string\n",
        "print(\"Reversed string:\", reversed_str)"
      ],
      "metadata": {
        "colab": {
          "base_uri": "https://localhost:8080/"
        },
        "id": "YbJtuOkHhbrO",
        "outputId": "4a60cc30-2216-46a1-a6bf-1395325ce8bf"
      },
      "execution_count": 24,
      "outputs": [
        {
          "output_type": "stream",
          "name": "stdout",
          "text": [
            "Enter a string: Anshumaan\n",
            "Reversed string: naamuhsnA\n"
          ]
        }
      ]
    },
    {
      "cell_type": "code",
      "source": [
        "#15. Write a Python program to calculate the factorial of a number provided by the user using a while loop.\n",
        "\n",
        "# Take input from the user\n",
        "num = int(input(\"Enter a number to calculate its factorial: \"))\n",
        "\n",
        "# Initialize the factorial variable\n",
        "factorial = 1\n",
        "\n",
        "# Check if the number is negative, zero, or positive\n",
        "if num < 0:\n",
        "    print(\"Factorial does not exist for negative numbers\")\n",
        "elif num == 0:\n",
        "    print(\"The factorial of 0 is 1\")\n",
        "else:\n",
        "    # Calculate factorial using while loop\n",
        "    while num > 0:\n",
        "        factorial *= num\n",
        "        num -= 1\n",
        "\n",
        "    print(\"The factorial is:\", factorial)"
      ],
      "metadata": {
        "colab": {
          "base_uri": "https://localhost:8080/"
        },
        "id": "_Cln6MAphkUC",
        "outputId": "5a9e4045-3d2e-4aab-c8fd-20fb9444885e"
      },
      "execution_count": 26,
      "outputs": [
        {
          "output_type": "stream",
          "name": "stdout",
          "text": [
            "Enter a number to calculate its factorial: 12\n",
            "The factorial is: 479001600\n"
          ]
        }
      ]
    },
    {
      "cell_type": "code",
      "source": [],
      "metadata": {
        "id": "Kxa1NJvShtAW"
      },
      "execution_count": null,
      "outputs": []
    }
  ]
}